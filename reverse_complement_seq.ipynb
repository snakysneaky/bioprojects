{
  "nbformat": 4,
  "nbformat_minor": 0,
  "metadata": {
    "colab": {
      "provenance": [],
      "authorship_tag": "ABX9TyN0x63epfGF14VENyjSXs07",
      "include_colab_link": true
    },
    "kernelspec": {
      "name": "python3",
      "display_name": "Python 3"
    },
    "language_info": {
      "name": "python"
    }
  },
  "cells": [
    {
      "cell_type": "markdown",
      "metadata": {
        "id": "view-in-github",
        "colab_type": "text"
      },
      "source": [
        "<a href=\"https://colab.research.google.com/github/snakysneaky/bioprojects/blob/main/reverse_complement_seq.ipynb\" target=\"_parent\"><img src=\"https://colab.research.google.com/assets/colab-badge.svg\" alt=\"Open In Colab\"/></a>"
      ]
    },
    {
      "cell_type": "markdown",
      "source": [
        "Returns the reverse complement of an oligonucleotide sequence."
      ],
      "metadata": {
        "id": "nwJRnbJ85_4g"
      }
    },
    {
      "cell_type": "code",
      "execution_count": 14,
      "metadata": {
        "id": "YhGNBKd52tpb"
      },
      "outputs": [],
      "source": [
        "def reverse_complement(seq):\n",
        "    complement = {'A': 'T', 'C': 'G', 'G': 'C', 'T': 'A', 'U':'A'}\n",
        "    reverse_seq = seq[::-1]\n",
        "    rev_comp_seq = ''.join([complement[base] for base in reverse_seq])\n",
        "    return rev_comp_seq"
      ]
    },
    {
      "cell_type": "code",
      "source": [
        "seq = \"ACTGAATG\"\n",
        "reverse_complement(seq)"
      ],
      "metadata": {
        "colab": {
          "base_uri": "https://localhost:8080/",
          "height": 35
        },
        "id": "BJXYM0gq28cD",
        "outputId": "557ebeff-807e-4e83-df4d-d2a913201d3b"
      },
      "execution_count": 12,
      "outputs": [
        {
          "output_type": "execute_result",
          "data": {
            "text/plain": [
              "'CATTCAGT'"
            ],
            "application/vnd.google.colaboratory.intrinsic+json": {
              "type": "string"
            }
          },
          "metadata": {},
          "execution_count": 12
        }
      ]
    },
    {
      "cell_type": "code",
      "source": [
        "rna_seq = \"UACGAAU\"\n",
        "reverse_complement(rna_seq)"
      ],
      "metadata": {
        "colab": {
          "base_uri": "https://localhost:8080/",
          "height": 35
        },
        "id": "2_MpiNL96QrU",
        "outputId": "e8301db2-17b9-4899-b829-fc088d6b9747"
      },
      "execution_count": 15,
      "outputs": [
        {
          "output_type": "execute_result",
          "data": {
            "text/plain": [
              "'ATTCGTA'"
            ],
            "application/vnd.google.colaboratory.intrinsic+json": {
              "type": "string"
            }
          },
          "metadata": {},
          "execution_count": 15
        }
      ]
    }
  ]
}