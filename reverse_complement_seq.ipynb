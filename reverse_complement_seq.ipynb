{
  "nbformat": 4,
  "nbformat_minor": 0,
  "metadata": {
    "colab": {
      "provenance": [],
      "authorship_tag": "ABX9TyOqbL6FXProOw18ETPzDf/6",
      "include_colab_link": true
    },
    "kernelspec": {
      "name": "python3",
      "display_name": "Python 3"
    },
    "language_info": {
      "name": "python"
    }
  },
  "cells": [
    {
      "cell_type": "markdown",
      "metadata": {
        "id": "view-in-github",
        "colab_type": "text"
      },
      "source": [
        "<a href=\"https://colab.research.google.com/github/snakysneaky/bioprojects/blob/main/reverse_complement_seq.ipynb\" target=\"_parent\"><img src=\"https://colab.research.google.com/assets/colab-badge.svg\" alt=\"Open In Colab\"/></a>"
      ]
    },
    {
      "cell_type": "markdown",
      "source": [
        "Returns the reverse complement of an oligonucleotide sequence."
      ],
      "metadata": {
        "id": "nwJRnbJ85_4g"
      }
    },
    {
      "cell_type": "code",
      "execution_count": 13,
      "metadata": {
        "id": "YhGNBKd52tpb"
      },
      "outputs": [],
      "source": [
        "def reverse_cpmplement(seq):\n",
        "    complement = {'A': 'T', 'C': 'G', 'G': 'C', 'T': 'A'}\n",
        "    reverse_seq = seq[::-1]\n",
        "    rev_comp_seq = ''.join([complement[base] for base in reverse_seq])\n",
        "    return rev_comp_seq"
      ]
    },
    {
      "cell_type": "code",
      "source": [
        "seq = \"AATGCAG\"\n",
        "reverse_cpmplement(seq)"
      ],
      "metadata": {
        "colab": {
          "base_uri": "https://localhost:8080/",
          "height": 35
        },
        "id": "BJXYM0gq28cD",
        "outputId": "5bb34388-75e9-4896-bbb1-5b0c46aa6581"
      },
      "execution_count": 23,
      "outputs": [
        {
          "output_type": "execute_result",
          "data": {
            "text/plain": [
              "'CTGCATT'"
            ],
            "application/vnd.google.colaboratory.intrinsic+json": {
              "type": "string"
            }
          },
          "metadata": {},
          "execution_count": 23
        }
      ]
    },
    {
      "cell_type": "code",
      "source": [],
      "metadata": {
        "id": "2_MpiNL96QrU"
      },
      "execution_count": null,
      "outputs": []
    }
  ]
}